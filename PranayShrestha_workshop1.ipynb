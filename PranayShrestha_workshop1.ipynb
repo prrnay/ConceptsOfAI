{
  "nbformat": 4,
  "nbformat_minor": 0,
  "metadata": {
    "colab": {
      "provenance": []
    },
    "kernelspec": {
      "name": "python3",
      "display_name": "Python 3"
    },
    "language_info": {
      "name": "python"
    }
  },
  "cells": [
    {
      "cell_type": "code",
      "execution_count": 1,
      "metadata": {
        "id": "7Lsq66ZffTrL"
      },
      "outputs": [],
      "source": [
        "import numpy as np"
      ]
    },
    {
      "cell_type": "code",
      "source": [
        "#1 Initialize an empty array with size 2X2.\n",
        "empty_array=np.empty((2,2))\n",
        "print(\"Empty Array (2*2):\\n\",empty_array)"
      ],
      "metadata": {
        "colab": {
          "base_uri": "https://localhost:8080/"
        },
        "id": "qTI_koGJfhfP",
        "outputId": "794d93eb-9cf6-48cb-f89f-9fa9459afb0d"
      },
      "execution_count": 2,
      "outputs": [
        {
          "output_type": "stream",
          "name": "stdout",
          "text": [
            "Empty Array (2*2):\n",
            " [[4.72578538e-310 0.00000000e+000]\n",
            " [9.31464664e+242 1.51298292e-152]]\n"
          ]
        }
      ]
    },
    {
      "cell_type": "code",
      "source": [
        "#2 Initialize an all one array with size 4X2.\n",
        "ones_array=np.ones((4,2))\n",
        "print(\"All one array with size (4x2) is:\",ones_array)"
      ],
      "metadata": {
        "colab": {
          "base_uri": "https://localhost:8080/"
        },
        "id": "D49TCoMOfjXo",
        "outputId": "cf54d5ba-21f0-4eba-a721-6f20c900a986"
      },
      "execution_count": 3,
      "outputs": [
        {
          "output_type": "stream",
          "name": "stdout",
          "text": [
            "All one array with size (4x2) is: [[1. 1.]\n",
            " [1. 1.]\n",
            " [1. 1.]\n",
            " [1. 1.]]\n"
          ]
        }
      ]
    },
    {
      "cell_type": "code",
      "source": [
        "#3 Return a new array of given shape and type, filled with fill value.{Hint: np.full}\n",
        "filled_array=np.full((3,3),5)\n",
        "print(\"Filled array with fill value and type:\",filled_array)"
      ],
      "metadata": {
        "colab": {
          "base_uri": "https://localhost:8080/"
        },
        "id": "E-OMgwR6flPV",
        "outputId": "7c4e1391-b7b1-4f2b-bb15-8508a22ddd59"
      },
      "execution_count": 4,
      "outputs": [
        {
          "output_type": "stream",
          "name": "stdout",
          "text": [
            "Filled array with fill value and type: [[5 5 5]\n",
            " [5 5 5]\n",
            " [5 5 5]]\n"
          ]
        }
      ]
    },
    {
      "cell_type": "code",
      "source": [
        "#4 Return a new array of zeros with same shape and type as a given array.{Hint: np.zeros like}\n",
        "zero_array=np.zeros_like(filled_array)\n",
        "print(\"Zero array is:\",zero_array)"
      ],
      "metadata": {
        "colab": {
          "base_uri": "https://localhost:8080/"
        },
        "id": "jEGfhnXifmzC",
        "outputId": "be2784c2-10a2-4aa8-e105-6e3101371388"
      },
      "execution_count": 5,
      "outputs": [
        {
          "output_type": "stream",
          "name": "stdout",
          "text": [
            "Zero array is: [[0 0 0]\n",
            " [0 0 0]\n",
            " [0 0 0]]\n"
          ]
        }
      ]
    },
    {
      "cell_type": "code",
      "source": [
        "#5 Return a new array of ones with same shape and type as a given array.{Hint: np.ones like}\n",
        "ones_array=np.ones_like(filled_array)\n",
        "print(\"Ones array is:\",ones_array)\n"
      ],
      "metadata": {
        "colab": {
          "base_uri": "https://localhost:8080/"
        },
        "id": "FLM_3UBYfpUB",
        "outputId": "16755799-19da-49d2-c593-8fdad566e76b"
      },
      "execution_count": 6,
      "outputs": [
        {
          "output_type": "stream",
          "name": "stdout",
          "text": [
            "Ones array is: [[1 1 1]\n",
            " [1 1 1]\n",
            " [1 1 1]]\n"
          ]
        }
      ]
    },
    {
      "cell_type": "code",
      "source": [
        "#6 For an existing list new_list = [1,2,3,4] convert to an numpy array.{Hint: np.array()}\n",
        "new_list=[1,2,3,4]\n",
        "numpy_array=np.array(new_list)\n",
        "print(\"Numpy array is:\",numpy_array)"
      ],
      "metadata": {
        "colab": {
          "base_uri": "https://localhost:8080/"
        },
        "id": "IEbrXldUftIi",
        "outputId": "5f4cccc9-50f0-46c9-b994-bf83df6dc939"
      },
      "execution_count": 7,
      "outputs": [
        {
          "output_type": "stream",
          "name": "stdout",
          "text": [
            "Numpy array is: [1 2 3 4]\n"
          ]
        }
      ]
    },
    {
      "cell_type": "code",
      "source": [
        "#Problem2 1. Create an array with values ranging from 10 to 49. {Hint:np.arrange()}.\n",
        "arrange_array = np.arange(10, 50)\n",
        "print(\"Arranged array with values ranging from 10 to 49 is:\", arrange_array)"
      ],
      "metadata": {
        "colab": {
          "base_uri": "https://localhost:8080/"
        },
        "id": "WJ-822IGfv60",
        "outputId": "6a0d1965-4f52-4321-bf38-814ef8b6e056"
      },
      "execution_count": 8,
      "outputs": [
        {
          "output_type": "stream",
          "name": "stdout",
          "text": [
            "Arranged array with values ranging from 10 to 49 is: [10 11 12 13 14 15 16 17 18 19 20 21 22 23 24 25 26 27 28 29 30 31 32 33\n",
            " 34 35 36 37 38 39 40 41 42 43 44 45 46 47 48 49]\n"
          ]
        }
      ]
    },
    {
      "cell_type": "code",
      "source": [
        "#2 Create a 3X3 matrix with values ranging from 0 to 8.{Hint:look for np.reshape()}\n",
        "reshape_array=np.arange(9).reshape(3,3)\n",
        "print(\"Reshaped array is:\",reshape_array)"
      ],
      "metadata": {
        "colab": {
          "base_uri": "https://localhost:8080/"
        },
        "id": "M4sMhzD4fyZG",
        "outputId": "aeed1460-f159-4719-a8d8-dbf24a1d7dac"
      },
      "execution_count": 9,
      "outputs": [
        {
          "output_type": "stream",
          "name": "stdout",
          "text": [
            "Reshaped array is: [[0 1 2]\n",
            " [3 4 5]\n",
            " [6 7 8]]\n"
          ]
        }
      ]
    },
    {
      "cell_type": "code",
      "source": [
        "#3Create a 3X3 identity matrix.{Hint:np.eye()}\n",
        "identity_matrix=np.eye(3,3)\n",
        "print(\"Identitiy matrix :\",identity_matrix)"
      ],
      "metadata": {
        "colab": {
          "base_uri": "https://localhost:8080/"
        },
        "id": "p8j5W9daf2QH",
        "outputId": "ae2fe390-5a51-43d6-a3e2-f519458bee46"
      },
      "execution_count": 10,
      "outputs": [
        {
          "output_type": "stream",
          "name": "stdout",
          "text": [
            "Identitiy matrix : [[1. 0. 0.]\n",
            " [0. 1. 0.]\n",
            " [0. 0. 1.]]\n"
          ]
        }
      ]
    },
    {
      "cell_type": "code",
      "source": [
        "#4 Create a random array of size 30 and find the mean of the array. {Hint:check for np.random.random() and array.mean() function}\n",
        "random_array=np.random.random(30)\n",
        "mean_value=random_array.mean()\n",
        "print(\"Random array:\",random_array)\n",
        "print(\"\\nMean of the array is:\",mean_value)"
      ],
      "metadata": {
        "colab": {
          "base_uri": "https://localhost:8080/"
        },
        "id": "0QbJSSeMf4xy",
        "outputId": "4a7ffe4e-d682-4fb4-af85-52d534956619"
      },
      "execution_count": 11,
      "outputs": [
        {
          "output_type": "stream",
          "name": "stdout",
          "text": [
            "Random array: [0.13308807 0.27374246 0.51021797 0.2132852  0.05400312 0.64368591\n",
            " 0.72513012 0.71699276 0.3115733  0.16119012 0.77241179 0.68444405\n",
            " 0.20477096 0.24829954 0.51259038 0.05419983 0.54751047 0.54387038\n",
            " 0.93199129 0.65507247 0.20640495 0.94645742 0.28498544 0.85916313\n",
            " 0.32724335 0.63312739 0.76909012 0.14859433 0.30492773 0.16118194]\n",
            "\n",
            "Mean of the array is: 0.4513081995020224\n"
          ]
        }
      ]
    },
    {
      "cell_type": "code",
      "source": [
        "#5 Create a 10X10 array with random values and find the minimum and maximum values.\n",
        "random_array = np.random.random((10, 10))\n",
        "\n",
        "min_value = random_array.min()\n",
        "max_value = random_array.max()\n",
        "\n",
        "print(\"Random 10x10 array:\",random_array)\n",
        "print(\"\\nMinimum value:\", min_value,\"and the Maxium value is:\",max_value)"
      ],
      "metadata": {
        "colab": {
          "base_uri": "https://localhost:8080/"
        },
        "id": "hwDtpb4kf9Ed",
        "outputId": "78b3ff44-85f2-4fc6-eb0e-0780e1b7cb17"
      },
      "execution_count": 12,
      "outputs": [
        {
          "output_type": "stream",
          "name": "stdout",
          "text": [
            "Random 10x10 array: [[0.80401055 0.39607329 0.16239101 0.87619513 0.84451347 0.80186529\n",
            "  0.56022847 0.4962462  0.20605946 0.40615506]\n",
            " [0.32760307 0.79884498 0.50039624 0.80785866 0.48691809 0.8322624\n",
            "  0.88261625 0.36525542 0.45022917 0.08605773]\n",
            " [0.72208368 0.52350724 0.95746344 0.50574603 0.34041678 0.78048495\n",
            "  0.54443227 0.62983798 0.07665955 0.47812495]\n",
            " [0.31214584 0.91974432 0.12776849 0.19080453 0.02709816 0.45864171\n",
            "  0.78604112 0.02341599 0.03082478 0.47495771]\n",
            " [0.92489576 0.73087835 0.73343702 0.79652137 0.67043472 0.30699888\n",
            "  0.86284004 0.33647715 0.66332067 0.90177808]\n",
            " [0.69146509 0.7108981  0.0080824  0.5625054  0.44270255 0.4579166\n",
            "  0.68141769 0.69456589 0.4878741  0.05209838]\n",
            " [0.83097988 0.42694825 0.06329987 0.57484231 0.99663477 0.86842558\n",
            "  0.40126161 0.41882079 0.58833639 0.84346244]\n",
            " [0.31422749 0.25488769 0.39829862 0.58678241 0.29962347 0.52946792\n",
            "  0.90230275 0.37503526 0.93719409 0.64152041]\n",
            " [0.97717405 0.44461817 0.64795448 0.64733964 0.19632244 0.35753953\n",
            "  0.03561704 0.2810329  0.30350349 0.48401792]\n",
            " [0.17028571 0.69864079 0.78352867 0.17642089 0.01689195 0.48112088\n",
            "  0.70084506 0.39187205 0.98526543 0.87072389]]\n",
            "\n",
            "Minimum value: 0.008082403960246842 and the Maxium value is: 0.9966347723334971\n"
          ]
        }
      ]
    },
    {
      "cell_type": "code",
      "source": [
        "#6 Create a zero array of size 10 and replace 5th element with 1.\n",
        "zero_array=np.zeros(10)\n",
        "zero_array[4]=1\n",
        "print(\"Modified array\",zero_array)"
      ],
      "metadata": {
        "colab": {
          "base_uri": "https://localhost:8080/"
        },
        "id": "hk5yVxyaf_nQ",
        "outputId": "0ca3ff6f-3dad-4d1f-b1e2-ca11d707c896"
      },
      "execution_count": 13,
      "outputs": [
        {
          "output_type": "stream",
          "name": "stdout",
          "text": [
            "Modified array [0. 0. 0. 0. 1. 0. 0. 0. 0. 0.]\n"
          ]
        }
      ]
    },
    {
      "cell_type": "code",
      "source": [
        "#7 Reverse an array arr = [1,2,0,0,4,0].\n",
        "reverse_array=[1,2,0,0,4,0]\n",
        "reverse_array.reverse()\n",
        "print(\"Reversed array is:\",reverse_array)"
      ],
      "metadata": {
        "colab": {
          "base_uri": "https://localhost:8080/"
        },
        "id": "2yRePwoegCOm",
        "outputId": "1e4abf21-9563-460b-925f-cf21f4c05676"
      },
      "execution_count": 14,
      "outputs": [
        {
          "output_type": "stream",
          "name": "stdout",
          "text": [
            "Reversed array is: [0, 4, 0, 0, 2, 1]\n"
          ]
        }
      ]
    },
    {
      "cell_type": "code",
      "source": [
        "#8 Create a 2d array with 1 on border and 0 inside.\n",
        "import numpy as np\n",
        "\n",
        "rows, cols = 4, 4\n",
        "array = np.zeros((rows, cols), dtype=int)\n",
        "array[0, :] = 1\n",
        "array[-1, :] = 1\n",
        "array[:, 0] = 1\n",
        "array[:, -1] = 1\n",
        "\n",
        "print(\"2D array with border of 1s and inside 0s:\",array)"
      ],
      "metadata": {
        "colab": {
          "base_uri": "https://localhost:8080/"
        },
        "id": "aVzhypnggEVn",
        "outputId": "3cab72bd-6ac6-4fc3-eb2e-62e0d63155ba"
      },
      "execution_count": 15,
      "outputs": [
        {
          "output_type": "stream",
          "name": "stdout",
          "text": [
            "2D array with border of 1s and inside 0s: [[1 1 1 1]\n",
            " [1 0 0 1]\n",
            " [1 0 0 1]\n",
            " [1 1 1 1]]\n"
          ]
        }
      ]
    },
    {
      "cell_type": "code",
      "source": [
        "#9 Create a 8X8 matrix and fill it with a checkerboard pattern.\n",
        "import numpy as np\n",
        "\n",
        "checkerboard = np.zeros((8, 8), dtype=int)\n",
        "checkerboard[1::2, ::2] = 1\n",
        "checkerboard[::2, 1::2] = 1\n",
        "\n",
        "print(\"Checkerboard pattern:\",checkerboard)"
      ],
      "metadata": {
        "colab": {
          "base_uri": "https://localhost:8080/"
        },
        "id": "DP0jSKa5gGe_",
        "outputId": "112e3b3f-2179-4e51-94a0-7ed44cd28766"
      },
      "execution_count": 17,
      "outputs": [
        {
          "output_type": "stream",
          "name": "stdout",
          "text": [
            "Checkerboard pattern: [[0 1 0 1 0 1 0 1]\n",
            " [1 0 1 0 1 0 1 0]\n",
            " [0 1 0 1 0 1 0 1]\n",
            " [1 0 1 0 1 0 1 0]\n",
            " [0 1 0 1 0 1 0 1]\n",
            " [1 0 1 0 1 0 1 0]\n",
            " [0 1 0 1 0 1 0 1]\n",
            " [1 0 1 0 1 0 1 0]]\n"
          ]
        }
      ]
    },
    {
      "cell_type": "code",
      "source": [
        "# Problem 3\n",
        "# For the following arrays:\n",
        "# x = np.array([[1,2],[3,5]]) and y = np.array([[5,6],[7,8]]);\n",
        "# v = np.array([9,10]) and w = np.array([11,12]);\n",
        "\n",
        "#1 Add the two array.\n",
        "\n",
        "x = np.array([[1, 2], [3, 5]])\n",
        "y = np.array([[5, 6], [7, 8]])\n",
        "\n",
        "result = x + y\n",
        "\n",
        "print(\"Sum of x and y:\",result)"
      ],
      "metadata": {
        "colab": {
          "base_uri": "https://localhost:8080/"
        },
        "id": "kjLaTaH_gK3b",
        "outputId": "1f6b7e22-d4cc-4478-86cf-760f772380cf"
      },
      "execution_count": 16,
      "outputs": [
        {
          "output_type": "stream",
          "name": "stdout",
          "text": [
            "Sum of x and y: [[ 6  8]\n",
            " [10 13]]\n"
          ]
        }
      ]
    },
    {
      "cell_type": "code",
      "source": [
        "#2 Subtract the two array.\n",
        "x = np.array([[1, 2], [3, 5]])\n",
        "y = np.array([[5, 6], [7, 8]])\n",
        "\n",
        "result = x - y\n",
        "\n",
        "print(\"Subtraction of x and y:\",result)"
      ],
      "metadata": {
        "colab": {
          "base_uri": "https://localhost:8080/"
        },
        "id": "3OBcO_elgPeV",
        "outputId": "5abe8262-96fe-4c1e-b7db-b8f4c92d133b"
      },
      "execution_count": 18,
      "outputs": [
        {
          "output_type": "stream",
          "name": "stdout",
          "text": [
            "Subtraction of x and y: [[-4 -4]\n",
            " [-4 -3]]\n"
          ]
        }
      ]
    },
    {
      "cell_type": "code",
      "source": [
        "#3 Multiply the array with any integers of your choice.\n",
        "\n",
        "y = np.array([[5, 6], [7, 8]])\n",
        "\n",
        "result = y*3\n",
        "\n",
        "print(\"Multiplication of y:\",result)"
      ],
      "metadata": {
        "colab": {
          "base_uri": "https://localhost:8080/"
        },
        "id": "exKkScGEgRfO",
        "outputId": "283ebc76-3d63-4092-efcb-1883082aa230"
      },
      "execution_count": 19,
      "outputs": [
        {
          "output_type": "stream",
          "name": "stdout",
          "text": [
            "Multiplication of y: [[15 18]\n",
            " [21 24]]\n"
          ]
        }
      ]
    },
    {
      "cell_type": "code",
      "source": [
        "#4 Find the square of each element of the array.\n",
        "x = np.array([[1, 2], [3, 5]])\n",
        "y = np.array([[5, 6], [7, 8]])\n",
        "\n",
        "result_x = x**2\n",
        "result_y=y**2\n",
        "\n",
        "print(\"Square of x is:\",result_x)\n",
        "print(\"Square of y:\",result_y)"
      ],
      "metadata": {
        "colab": {
          "base_uri": "https://localhost:8080/"
        },
        "id": "6lrDqLnJgT9j",
        "outputId": "ff5121c1-1a3d-4ed6-df64-61459eadc565"
      },
      "execution_count": 20,
      "outputs": [
        {
          "output_type": "stream",
          "name": "stdout",
          "text": [
            "Square of x is: [[ 1  4]\n",
            " [ 9 25]]\n",
            "Square of y: [[25 36]\n",
            " [49 64]]\n"
          ]
        }
      ]
    },
    {
      "cell_type": "code",
      "source": [
        "#5 Find the dot product between: v(and)w ; x(and)v ; x(and)y.\n",
        "\n",
        "x = np.array([[1, 2], [3, 5]])\n",
        "y = np.array([[5, 6], [7, 8]])\n",
        "v = np.array([9, 10])\n",
        "w = np.array([11, 12])\n",
        "\n",
        "dot_vw = np.dot(v, w)\n",
        "\n",
        "dot_xv = np.dot(x, v)\n",
        "\n",
        "dot_xy = np.dot(x, y)\n",
        "\n",
        "print(\"Dot product of v and w:\", dot_vw)\n",
        "print(\"Dot product of x and v:\", dot_xv)\n",
        "print(\"Dot product of x and y:\", dot_xy)\n"
      ],
      "metadata": {
        "colab": {
          "base_uri": "https://localhost:8080/"
        },
        "id": "qxQGH69fgWzn",
        "outputId": "901e5b24-6487-433a-d898-28d83e90d5c8"
      },
      "execution_count": 21,
      "outputs": [
        {
          "output_type": "stream",
          "name": "stdout",
          "text": [
            "Dot product of v and w: 219\n",
            "Dot product of x and v: [29 77]\n",
            "Dot product of x and y: [[19 22]\n",
            " [50 58]]\n"
          ]
        }
      ]
    },
    {
      "cell_type": "code",
      "source": [
        "#6 Concatenate x(and)y along row and Concatenate v(and)w along column. {Hint:try np.concatenate() or np.vstack() functions.\n",
        "\n",
        "x = np.array([[1, 2], [3, 5]])\n",
        "y = np.array([[5, 6], [7, 8]])\n",
        "v = np.array([9, 10])\n",
        "w = np.array([11, 12])\n",
        "\n",
        "concat_xy_rows = np.concatenate((x, y), axis=0)\n",
        "\n",
        "v_reshaped = v.reshape(-1, 1)\n",
        "w_reshaped = w.reshape(-1, 1)\n",
        "concat_vw_columns = np.concatenate((v_reshaped, w_reshaped), axis=1)\n",
        "\n",
        "print(\"Concatenated x and y along rows:\")\n",
        "print(concat_xy_rows)\n",
        "\n",
        "print(\"Concatenated v and w along columns:\")\n",
        "print(concat_vw_columns)"
      ],
      "metadata": {
        "colab": {
          "base_uri": "https://localhost:8080/"
        },
        "id": "RPK0s7aTgZK3",
        "outputId": "f6a9d30a-d8de-4cc3-a729-688fb0e2ec32"
      },
      "execution_count": 22,
      "outputs": [
        {
          "output_type": "stream",
          "name": "stdout",
          "text": [
            "Concatenated x and y along rows:\n",
            "[[1 2]\n",
            " [3 5]\n",
            " [5 6]\n",
            " [7 8]]\n",
            "Concatenated v and w along columns:\n",
            "[[ 9 11]\n",
            " [10 12]]\n"
          ]
        }
      ]
    },
    {
      "cell_type": "code",
      "source": [
        "#7 Concatenate x(and)v; if you get an error, observe and explain why did you get the error?\n",
        "\n",
        "x = np.array([[1, 2], [3, 5]])\n",
        "v = np.array([9, 10])\n",
        "\n",
        "try:\n",
        "    result = np.concatenate((x, v), axis=0)\n",
        "    print(\"Concatenated x and v:\")\n",
        "    print(result)\n",
        "except Exception as e:\n",
        "    print(\"Error:\", e)\n"
      ],
      "metadata": {
        "colab": {
          "base_uri": "https://localhost:8080/"
        },
        "id": "LGjf24PUgbLd",
        "outputId": "3c0c482f-f12f-40a1-cca3-eafc4248042f"
      },
      "execution_count": 23,
      "outputs": [
        {
          "output_type": "stream",
          "name": "stdout",
          "text": [
            "Error: all the input arrays must have same number of dimensions, but the array at index 0 has 2 dimension(s) and the array at index 1 has 1 dimension(s)\n"
          ]
        }
      ]
    },
    {
      "cell_type": "code",
      "source": [
        "# Problem 4\n",
        "#1 • For the following arrays:\n",
        "# A = np.array([[3,4],[7,8]]) and B = np.array([[5,3],[2,1]]);\n",
        "# Prove following with Numpy:\n",
        "# 1. Prove A.A−1 = I.\n",
        "# 2. Prove AB ̸= BA.\n",
        "# 3. Prove (AB)\n",
        "# T = BTAT\n",
        "\n",
        "\n",
        "A = np.array([[3, 4], [7, 8]])\n",
        "B = np.array([[5, 3], [2, 1]])\n",
        "\n",
        "# 1. Prove A * A_inv = I\n",
        "A_inv = np.linalg.inv(A)\n",
        "result_1 = np.dot(A, A_inv)\n",
        "\n",
        "# 2. Prove A * B != B * A\n",
        "AB = np.dot(A, B)\n",
        "BA = np.dot(B, A)\n",
        "\n",
        "# 3. Prove (AB)^T = B^T * A^T\n",
        "AB_T = np.transpose(AB)\n",
        "B_T_A_T = np.dot(np.transpose(B), np.transpose(A))\n",
        "\n",
        "# Print results\n",
        "print(\"A * A_inv:\",result_1)\n",
        "print(\"\\nA * B:\",AB)\n",
        "\n",
        "print(\"\\nB * A:\",BA)\n",
        "\n",
        "print(\"\\nTranspose of A * B:\",AB_T)\n",
        "\n",
        "print(\"\\nB^T * A^T:\",B_T_A_T)\n"
      ],
      "metadata": {
        "colab": {
          "base_uri": "https://localhost:8080/"
        },
        "id": "blTifMJxgfin",
        "outputId": "5749b151-20de-4e8c-da65-0c7a882cc167"
      },
      "execution_count": 24,
      "outputs": [
        {
          "output_type": "stream",
          "name": "stdout",
          "text": [
            "A * A_inv: [[1.00000000e+00 0.00000000e+00]\n",
            " [1.77635684e-15 1.00000000e+00]]\n",
            "\n",
            "A * B: [[23 13]\n",
            " [51 29]]\n",
            "\n",
            "B * A: [[36 44]\n",
            " [13 16]]\n",
            "\n",
            "Transpose of A * B: [[23 51]\n",
            " [13 29]]\n",
            "\n",
            "B^T * A^T: [[23 51]\n",
            " [13 29]]\n"
          ]
        }
      ]
    },
    {
      "cell_type": "code",
      "source": [
        "#2 Solve the following system of Linear equation using Inverse Methods.\n",
        "# 2x − 3y + z = −1\n",
        "# x − y + 2z = −3\n",
        "# 3x + y − z = 9\n",
        "\n",
        "A = np.array([[2, -3, 1],\n",
        "              [1, -1, 2],\n",
        "              [3, 1, -1]])\n",
        "B = np.array([-1, -3, 9])\n",
        "\n",
        "\n",
        "A_inv = np.linalg.inv(A)\n",
        "\n",
        "X = np.dot(A_inv, B)\n",
        "\n",
        "print(\"Solution (x, y, z):\", X)"
      ],
      "metadata": {
        "colab": {
          "base_uri": "https://localhost:8080/"
        },
        "id": "czZ3LX_pgims",
        "outputId": "cf710193-9fb3-4198-8573-7f9d96a7fd66"
      },
      "execution_count": 25,
      "outputs": [
        {
          "output_type": "stream",
          "name": "stdout",
          "text": [
            "Solution (x, y, z): [ 2.  1. -2.]\n"
          ]
        }
      ]
    },
    {
      "cell_type": "code",
      "source": [
        "#3 Now: solve the above equation using np.linalg.inv function.{Explore more about ”linalg” function\n",
        "import numpy as np\n",
        "\n",
        "\n",
        "A = np.array([[2, -3, 1],\n",
        "              [1, -1, 2],\n",
        "              [3, 1, -1]])\n",
        "\n",
        "B = np.array([-1, -3, 9])\n",
        "\n",
        "X = np.linalg.inv(A).dot(B)\n",
        "\n",
        "print(\"Solution (x, y, z):\", X)"
      ],
      "metadata": {
        "colab": {
          "base_uri": "https://localhost:8080/"
        },
        "id": "cadKSCZ1glxb",
        "outputId": "1cc5aa2e-220f-4f61-b8fd-3cc810f92a17"
      },
      "execution_count": 26,
      "outputs": [
        {
          "output_type": "stream",
          "name": "stdout",
          "text": [
            "Solution (x, y, z): [ 2.  1. -2.]\n"
          ]
        }
      ]
    }
  ]
}